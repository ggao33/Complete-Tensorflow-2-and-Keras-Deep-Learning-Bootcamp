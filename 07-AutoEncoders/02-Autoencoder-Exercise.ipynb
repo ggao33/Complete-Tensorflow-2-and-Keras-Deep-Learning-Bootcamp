{
 "cells": [
  {
   "cell_type": "markdown",
   "metadata": {},
   "source": [
    "___\n",
    "\n",
    "<a href='http://www.pieriandata.com'><img src='../Pierian_Data_Logo.png'/></a>\n",
    "___\n",
    "<center><em>Copyright Pierian Data</em></center>\n",
    "<center><em>For more information, visit us at <a href='http://www.pieriandata.com'>www.pieriandata.com</a></em></center>\n",
    "\n",
    "# Autoencoder Exercise"
   ]
  },
  {
   "cell_type": "markdown",
   "metadata": {},
   "source": [
    "## Complete the Tasks Below\n",
    "\n",
    "**TASK: Run the imports below**"
   ]
  },
  {
   "cell_type": "code",
   "execution_count": 1,
   "metadata": {},
   "outputs": [],
   "source": [
    "import pandas as pd\n",
    "import seaborn as sns\n",
    "import matplotlib.pyplot as plt"
   ]
  },
  {
   "cell_type": "markdown",
   "metadata": {},
   "source": [
    "## The Data\n",
    "\n",
    " In the table is the average consumption of 17 types of food in grams per person per week for every country in the UK.\n",
    "\n",
    "The table shows some interesting variations across different food types, but overall differences aren't so notable. \n",
    "\n",
    "**TASK: Run the import line below to read in the data**"
   ]
  },
  {
   "cell_type": "code",
   "execution_count": 2,
   "metadata": {},
   "outputs": [],
   "source": [
    "df = pd.read_csv('../DATA/UK_foods.csv',index_col='Unnamed: 0')"
   ]
  },
  {
   "cell_type": "markdown",
   "metadata": {},
   "source": [
    "**TASK: Display the DataFrame**"
   ]
  },
  {
   "cell_type": "code",
   "execution_count": 3,
   "metadata": {},
   "outputs": [
    {
     "data": {
      "text/html": [
       "<div>\n",
       "<style scoped>\n",
       "    .dataframe tbody tr th:only-of-type {\n",
       "        vertical-align: middle;\n",
       "    }\n",
       "\n",
       "    .dataframe tbody tr th {\n",
       "        vertical-align: top;\n",
       "    }\n",
       "\n",
       "    .dataframe thead th {\n",
       "        text-align: right;\n",
       "    }\n",
       "</style>\n",
       "<table border=\"1\" class=\"dataframe\">\n",
       "  <thead>\n",
       "    <tr style=\"text-align: right;\">\n",
       "      <th></th>\n",
       "      <th>England</th>\n",
       "      <th>Wales</th>\n",
       "      <th>Scotland</th>\n",
       "      <th>N.Ireland</th>\n",
       "    </tr>\n",
       "  </thead>\n",
       "  <tbody>\n",
       "    <tr>\n",
       "      <th>Cheese</th>\n",
       "      <td>105</td>\n",
       "      <td>103</td>\n",
       "      <td>103</td>\n",
       "      <td>66</td>\n",
       "    </tr>\n",
       "    <tr>\n",
       "      <th>Carcass_meat</th>\n",
       "      <td>245</td>\n",
       "      <td>227</td>\n",
       "      <td>242</td>\n",
       "      <td>267</td>\n",
       "    </tr>\n",
       "    <tr>\n",
       "      <th>Other_meat</th>\n",
       "      <td>685</td>\n",
       "      <td>803</td>\n",
       "      <td>750</td>\n",
       "      <td>586</td>\n",
       "    </tr>\n",
       "    <tr>\n",
       "      <th>Fish</th>\n",
       "      <td>147</td>\n",
       "      <td>160</td>\n",
       "      <td>122</td>\n",
       "      <td>93</td>\n",
       "    </tr>\n",
       "    <tr>\n",
       "      <th>Fats_and_oils</th>\n",
       "      <td>193</td>\n",
       "      <td>235</td>\n",
       "      <td>184</td>\n",
       "      <td>209</td>\n",
       "    </tr>\n",
       "  </tbody>\n",
       "</table>\n",
       "</div>"
      ],
      "text/plain": [
       "                England  Wales  Scotland  N.Ireland\n",
       "Cheese              105    103       103         66\n",
       "Carcass_meat        245    227       242        267\n",
       "Other_meat          685    803       750        586\n",
       "Fish                147    160       122         93\n",
       "Fats_and_oils       193    235       184        209"
      ]
     },
     "execution_count": 3,
     "metadata": {},
     "output_type": "execute_result"
    }
   ],
   "source": [
    "#CODE HERE\n",
    "df.head()"
   ]
  },
  {
   "cell_type": "code",
   "execution_count": null,
   "metadata": {},
   "outputs": [],
   "source": []
  },
  {
   "cell_type": "markdown",
   "metadata": {},
   "source": [
    "**TASK: Transpose the DataFrame so that the columns are now the index.**"
   ]
  },
  {
   "cell_type": "code",
   "execution_count": 4,
   "metadata": {},
   "outputs": [
    {
     "data": {
      "text/html": [
       "<div>\n",
       "<style scoped>\n",
       "    .dataframe tbody tr th:only-of-type {\n",
       "        vertical-align: middle;\n",
       "    }\n",
       "\n",
       "    .dataframe tbody tr th {\n",
       "        vertical-align: top;\n",
       "    }\n",
       "\n",
       "    .dataframe thead th {\n",
       "        text-align: right;\n",
       "    }\n",
       "</style>\n",
       "<table border=\"1\" class=\"dataframe\">\n",
       "  <thead>\n",
       "    <tr style=\"text-align: right;\">\n",
       "      <th></th>\n",
       "      <th>Cheese</th>\n",
       "      <th>Carcass_meat</th>\n",
       "      <th>Other_meat</th>\n",
       "      <th>Fish</th>\n",
       "      <th>Fats_and_oils</th>\n",
       "      <th>Sugars</th>\n",
       "      <th>Fresh_potatoes</th>\n",
       "      <th>Fresh_Veg</th>\n",
       "      <th>Other_Veg</th>\n",
       "      <th>Processed_potatoes</th>\n",
       "      <th>Processed_Veg</th>\n",
       "      <th>Fresh_fruit</th>\n",
       "      <th>Cereals</th>\n",
       "      <th>Beverages</th>\n",
       "      <th>Soft_drinks</th>\n",
       "      <th>Alcoholic_drinks</th>\n",
       "      <th>Confectionery</th>\n",
       "    </tr>\n",
       "  </thead>\n",
       "  <tbody>\n",
       "    <tr>\n",
       "      <th>England</th>\n",
       "      <td>105</td>\n",
       "      <td>245</td>\n",
       "      <td>685</td>\n",
       "      <td>147</td>\n",
       "      <td>193</td>\n",
       "      <td>156</td>\n",
       "      <td>720</td>\n",
       "      <td>253</td>\n",
       "      <td>488</td>\n",
       "      <td>198</td>\n",
       "      <td>360</td>\n",
       "      <td>1102</td>\n",
       "      <td>1472</td>\n",
       "      <td>57</td>\n",
       "      <td>1374</td>\n",
       "      <td>375</td>\n",
       "      <td>54</td>\n",
       "    </tr>\n",
       "    <tr>\n",
       "      <th>Wales</th>\n",
       "      <td>103</td>\n",
       "      <td>227</td>\n",
       "      <td>803</td>\n",
       "      <td>160</td>\n",
       "      <td>235</td>\n",
       "      <td>175</td>\n",
       "      <td>874</td>\n",
       "      <td>265</td>\n",
       "      <td>570</td>\n",
       "      <td>203</td>\n",
       "      <td>365</td>\n",
       "      <td>1137</td>\n",
       "      <td>1582</td>\n",
       "      <td>73</td>\n",
       "      <td>1256</td>\n",
       "      <td>475</td>\n",
       "      <td>64</td>\n",
       "    </tr>\n",
       "    <tr>\n",
       "      <th>Scotland</th>\n",
       "      <td>103</td>\n",
       "      <td>242</td>\n",
       "      <td>750</td>\n",
       "      <td>122</td>\n",
       "      <td>184</td>\n",
       "      <td>147</td>\n",
       "      <td>566</td>\n",
       "      <td>171</td>\n",
       "      <td>418</td>\n",
       "      <td>220</td>\n",
       "      <td>337</td>\n",
       "      <td>957</td>\n",
       "      <td>1462</td>\n",
       "      <td>53</td>\n",
       "      <td>1572</td>\n",
       "      <td>458</td>\n",
       "      <td>62</td>\n",
       "    </tr>\n",
       "    <tr>\n",
       "      <th>N.Ireland</th>\n",
       "      <td>66</td>\n",
       "      <td>267</td>\n",
       "      <td>586</td>\n",
       "      <td>93</td>\n",
       "      <td>209</td>\n",
       "      <td>139</td>\n",
       "      <td>1033</td>\n",
       "      <td>143</td>\n",
       "      <td>355</td>\n",
       "      <td>187</td>\n",
       "      <td>334</td>\n",
       "      <td>674</td>\n",
       "      <td>1494</td>\n",
       "      <td>47</td>\n",
       "      <td>1506</td>\n",
       "      <td>135</td>\n",
       "      <td>41</td>\n",
       "    </tr>\n",
       "  </tbody>\n",
       "</table>\n",
       "</div>"
      ],
      "text/plain": [
       "           Cheese  Carcass_meat   Other_meat   Fish  Fats_and_oils   Sugars  \\\n",
       "England       105            245          685   147             193     156   \n",
       "Wales         103            227          803   160             235     175   \n",
       "Scotland      103            242          750   122             184     147   \n",
       "N.Ireland      66            267          586    93             209     139   \n",
       "\n",
       "           Fresh_potatoes   Fresh_Veg   Other_Veg   Processed_potatoes   \\\n",
       "England                720         253         488                  198   \n",
       "Wales                  874         265         570                  203   \n",
       "Scotland               566         171         418                  220   \n",
       "N.Ireland             1033         143         355                  187   \n",
       "\n",
       "           Processed_Veg   Fresh_fruit   Cereals   Beverages  Soft_drinks   \\\n",
       "England               360          1102      1472         57          1374   \n",
       "Wales                 365          1137      1582         73          1256   \n",
       "Scotland              337           957      1462         53          1572   \n",
       "N.Ireland             334           674      1494         47          1506   \n",
       "\n",
       "           Alcoholic_drinks   Confectionery   \n",
       "England                  375              54  \n",
       "Wales                    475              64  \n",
       "Scotland                 458              62  \n",
       "N.Ireland                135              41  "
      ]
     },
     "execution_count": 4,
     "metadata": {},
     "output_type": "execute_result"
    }
   ],
   "source": [
    "#CODE HERE\n",
    "df.transpose()"
   ]
  },
  {
   "cell_type": "code",
   "execution_count": null,
   "metadata": {},
   "outputs": [],
   "source": []
  },
  {
   "cell_type": "markdown",
   "metadata": {},
   "source": [
    "**TASK: Create a heatmap from the DataFrame. Does any country really stand out as different than the others? It should be tricky to tell just from the image. Do any two countries appear to be very similar?**"
   ]
  },
  {
   "cell_type": "code",
   "execution_count": 5,
   "metadata": {},
   "outputs": [
    {
     "data": {
      "text/plain": [
       "<matplotlib.axes._subplots.AxesSubplot at 0x1fd3fb07b38>"
      ]
     },
     "execution_count": 5,
     "metadata": {},
     "output_type": "execute_result"
    },
    {
     "data": {
      "image/png": "[encoded data removed]",
      "text/plain": [
       "<Figure size 864x576 with 2 Axes>"
      ]
     },
     "metadata": {
      "needs_background": "light"
     },
     "output_type": "display_data"
    }
   ],
   "source": [
    "#CODE HERE\n",
    "plt.figure(figsize = (12,8))\n",
    "sns.heatmap(data = df)"
   ]
  },
  {
   "cell_type": "code",
   "execution_count": null,
   "metadata": {},
   "outputs": [],
   "source": []
  },
  {
   "cell_type": "markdown",
   "metadata": {},
   "source": [
    "**TASK: Run the imports necessary to build an autoencoder. Our goal will be to reduce the dimensions from 17 --> 2 and see if any countries stand out as very different.**"
   ]
  },
  {
   "cell_type": "code",
   "execution_count": 6,
   "metadata": {},
   "outputs": [],
   "source": [
    "#CODE HERE\n",
    "import tensorflow as tf\n",
    "from tensorflow.keras.models import Sequential\n",
    "from tensorflow.keras.optimizers import SGD\n",
    "from tensorflow.keras.layers import Dense, Flatten"
   ]
  },
  {
   "cell_type": "code",
   "execution_count": 7,
   "metadata": {},
   "outputs": [
    {
     "data": {
      "text/plain": [
       "(17, 4)"
      ]
     },
     "execution_count": 7,
     "metadata": {},
     "output_type": "execute_result"
    }
   ],
   "source": [
    "df.shape"
   ]
  },
  {
   "cell_type": "markdown",
   "metadata": {},
   "source": [
    "**TASK: Create an encoder. In the solutions we built one that went 17 --> 8 --> 4 --> 2**"
   ]
  },
  {
   "cell_type": "code",
   "execution_count": 8,
   "metadata": {},
   "outputs": [],
   "source": [
    "#CODE HERE\n",
    "encoder = Sequential()\n",
    "encoder.add(Dense(8, activation = 'relu', input_shape = [17]))\n",
    "encoder.add(Dense(4, activation = 'relu', input_shape = [8]))\n",
    "encoder.add(Dense(2, activation = 'relu', input_shape = [4]))"
   ]
  },
  {
   "cell_type": "code",
   "execution_count": null,
   "metadata": {},
   "outputs": [],
   "source": []
  },
  {
   "cell_type": "markdown",
   "metadata": {},
   "source": [
    "**TASK: Create a decoder. In the solutions we built one that went 2-->4-->8-->17**"
   ]
  },
  {
   "cell_type": "code",
   "execution_count": 9,
   "metadata": {},
   "outputs": [],
   "source": [
    "#CODE HERE\n",
    "decoder = Sequential()\n",
    "decoder.add(Dense(4, activation = 'relu', input_shape = [2]))\n",
    "decoder.add(Dense(8, activation = 'relu', input_shape = [4]))\n",
    "decoder.add(Dense(17, activation = 'relu', input_shape = [8]))"
   ]
  },
  {
   "cell_type": "code",
   "execution_count": null,
   "metadata": {},
   "outputs": [],
   "source": []
  },
  {
   "cell_type": "markdown",
   "metadata": {},
   "source": [
    "**TASK: Combine the encoder and decoder to be an autoencoder and compile the model.**"
   ]
  },
  {
   "cell_type": "code",
   "execution_count": 10,
   "metadata": {},
   "outputs": [],
   "source": [
    "#CODE HERE\n",
    "autoencoder = Sequential([encoder, decoder])\n",
    "autoencoder.compile(loss = 'mse', optimizer = SGD(lr = 1.5))"
   ]
  },
  {
   "cell_type": "code",
   "execution_count": null,
   "metadata": {},
   "outputs": [],
   "source": []
  },
  {
   "cell_type": "markdown",
   "metadata": {},
   "source": [
    "**TASK: Create a MinMaxScaler to scale the data. Make sure to transpose the data, since we really have 17 feature columns and only 4 rows (one per country).**"
   ]
  },
  {
   "cell_type": "code",
   "execution_count": 11,
   "metadata": {},
   "outputs": [],
   "source": [
    "#CODE HERE\n",
    "from sklearn.preprocessing import MinMaxScaler"
   ]
  },
  {
   "cell_type": "code",
   "execution_count": 12,
   "metadata": {},
   "outputs": [],
   "source": [
    "scaler = MinMaxScaler()"
   ]
  },
  {
   "cell_type": "code",
   "execution_count": 13,
   "metadata": {},
   "outputs": [],
   "source": [
    "scaled_df = scaler.fit_transform(df.transpose().values)"
   ]
  },
  {
   "cell_type": "code",
   "execution_count": 14,
   "metadata": {},
   "outputs": [
    {
     "data": {
      "text/plain": [
       "(4, 17)"
      ]
     },
     "execution_count": 14,
     "metadata": {},
     "output_type": "execute_result"
    }
   ],
   "source": [
    "scaled_df.shape"
   ]
  },
  {
   "cell_type": "code",
   "execution_count": 15,
   "metadata": {},
   "outputs": [],
   "source": [
    "# NOTE the shape should be 17 columns by 4 rows."
   ]
  },
  {
   "cell_type": "markdown",
   "metadata": {},
   "source": [
    "**TASK: Fit the autoencoder to the scaled data for 15 epochs.**"
   ]
  },
  {
   "cell_type": "code",
   "execution_count": 16,
   "metadata": {},
   "outputs": [
    {
     "name": "stdout",
     "output_type": "stream",
     "text": [
      "Train on 4 samples\n",
      "Epoch 1/100\n",
      "4/4 [==============================] - 0s 74ms/sample - loss: 0.4259\n",
      "Epoch 2/100\n",
      "4/4 [==============================] - 0s 487us/sample - loss: 0.3927\n",
      "Epoch 3/100\n",
      "4/4 [==============================] - 0s 748us/sample - loss: 0.3417\n",
      "Epoch 4/100\n",
      "4/4 [==============================] - 0s 748us/sample - loss: 0.3098\n",
      "Epoch 5/100\n",
      "4/4 [==============================] - 0s 505us/sample - loss: 0.2996\n",
      "Epoch 6/100\n",
      "4/4 [==============================] - 0s 495us/sample - loss: 0.2962\n",
      "Epoch 7/100\n",
      "4/4 [==============================] - 0s 745us/sample - loss: 0.2951\n",
      "Epoch 8/100\n",
      "4/4 [==============================] - 0s 996us/sample - loss: 0.2946\n",
      "Epoch 9/100\n",
      "4/4 [==============================] - 0s 748us/sample - loss: 0.2942\n",
      "Epoch 10/100\n",
      "4/4 [==============================] - 0s 499us/sample - loss: 0.2940\n",
      "Epoch 11/100\n",
      "4/4 [==============================] - 0s 748us/sample - loss: 0.2938\n",
      "Epoch 12/100\n",
      "4/4 [==============================] - 0s 997us/sample - loss: 0.2936\n",
      "Epoch 13/100\n",
      "4/4 [==============================] - 0s 493us/sample - loss: 0.2935\n",
      "Epoch 14/100\n",
      "4/4 [==============================] - 0s 995us/sample - loss: 0.2933\n",
      "Epoch 15/100\n",
      "4/4 [==============================] - 0s 499us/sample - loss: 0.2932\n",
      "Epoch 16/100\n",
      "4/4 [==============================] - 0s 1ms/sample - loss: 0.2931\n",
      "Epoch 17/100\n",
      "4/4 [==============================] - 0s 497us/sample - loss: 0.2930\n",
      "Epoch 18/100\n",
      "4/4 [==============================] - 0s 499us/sample - loss: 0.2928\n",
      "Epoch 19/100\n",
      "4/4 [==============================] - 0s 499us/sample - loss: 0.2927\n",
      "Epoch 20/100\n",
      "4/4 [==============================] - 0s 498us/sample - loss: 0.2925\n",
      "Epoch 21/100\n",
      "4/4 [==============================] - 0s 500us/sample - loss: 0.2924\n",
      "Epoch 22/100\n",
      "4/4 [==============================] - 0s 494us/sample - loss: 0.2922\n",
      "Epoch 23/100\n",
      "4/4 [==============================] - 0s 499us/sample - loss: 0.2919\n",
      "Epoch 24/100\n",
      "4/4 [==============================] - 0s 498us/sample - loss: 0.2917\n",
      "Epoch 25/100\n",
      "4/4 [==============================] - 0s 499us/sample - loss: 0.2914\n",
      "Epoch 26/100\n",
      "4/4 [==============================] - 0s 499us/sample - loss: 0.2910\n",
      "Epoch 27/100\n",
      "4/4 [==============================] - 0s 498us/sample - loss: 0.2906\n",
      "Epoch 28/100\n",
      "4/4 [==============================] - 0s 499us/sample - loss: 0.2901\n",
      "Epoch 29/100\n",
      "4/4 [==============================] - 0s 747us/sample - loss: 0.2895\n",
      "Epoch 30/100\n",
      "4/4 [==============================] - 0s 738us/sample - loss: 0.2887\n",
      "Epoch 31/100\n",
      "4/4 [==============================] - 0s 496us/sample - loss: 0.2877\n",
      "Epoch 32/100\n",
      "4/4 [==============================] - 0s 500us/sample - loss: 0.2866\n",
      "Epoch 33/100\n",
      "4/4 [==============================] - 0s 498us/sample - loss: 0.2851\n",
      "Epoch 34/100\n",
      "4/4 [==============================] - 0s 996us/sample - loss: 0.2834\n",
      "Epoch 35/100\n",
      "4/4 [==============================] - 0s 499us/sample - loss: 0.2815\n",
      "Epoch 36/100\n",
      "4/4 [==============================] - 0s 498us/sample - loss: 0.2789\n",
      "Epoch 37/100\n",
      "4/4 [==============================] - 0s 249us/sample - loss: 0.2755\n",
      "Epoch 38/100\n",
      "4/4 [==============================] - 0s 255us/sample - loss: 0.2720\n",
      "Epoch 39/100\n",
      "4/4 [==============================] - 0s 255us/sample - loss: 0.2682\n",
      "Epoch 40/100\n",
      "4/4 [==============================] - 0s 499us/sample - loss: 0.2638\n",
      "Epoch 41/100\n",
      "4/4 [==============================] - 0s 501us/sample - loss: 0.2595\n",
      "Epoch 42/100\n",
      "4/4 [==============================] - 0s 499us/sample - loss: 0.2556\n",
      "Epoch 43/100\n",
      "4/4 [==============================] - 0s 499us/sample - loss: 0.2526\n",
      "Epoch 44/100\n",
      "4/4 [==============================] - 0s 997us/sample - loss: 0.2506\n",
      "Epoch 45/100\n",
      "4/4 [==============================] - 0s 748us/sample - loss: 0.2511\n",
      "Epoch 46/100\n",
      "4/4 [==============================] - 0s 249us/sample - loss: 0.2595\n",
      "Epoch 47/100\n",
      "4/4 [==============================] - 0s 249us/sample - loss: 0.3198\n",
      "Epoch 48/100\n",
      "4/4 [==============================] - 0s 499us/sample - loss: 0.2716\n",
      "Epoch 49/100\n",
      "4/4 [==============================] - 0s 999us/sample - loss: 0.3249\n",
      "Epoch 50/100\n",
      "4/4 [==============================] - 0s 498us/sample - loss: 0.2538\n",
      "Epoch 51/100\n",
      "4/4 [==============================] - 0s 1ms/sample - loss: 0.2506\n",
      "Epoch 52/100\n",
      "4/4 [==============================] - 0s 748us/sample - loss: 0.2485\n",
      "Epoch 53/100\n",
      "4/4 [==============================] - 0s 502us/sample - loss: 0.2475\n",
      "Epoch 54/100\n",
      "4/4 [==============================] - 0s 497us/sample - loss: 0.2483\n",
      "Epoch 55/100\n",
      "4/4 [==============================] - 0s 499us/sample - loss: 0.2544\n",
      "Epoch 56/100\n",
      "4/4 [==============================] - 0s 498us/sample - loss: 0.2942\n",
      "Epoch 57/100\n",
      "4/4 [==============================] - 0s 498us/sample - loss: 0.2725\n",
      "Epoch 58/100\n",
      "4/4 [==============================] - 0s 500us/sample - loss: 0.3391\n",
      "Epoch 59/100\n",
      "4/4 [==============================] - 0s 499us/sample - loss: 0.2604\n",
      "Epoch 60/100\n",
      "4/4 [==============================] - 0s 501us/sample - loss: 0.2542\n",
      "Epoch 61/100\n",
      "4/4 [==============================] - 0s 499us/sample - loss: 0.2582\n",
      "Epoch 62/100\n",
      "4/4 [==============================] - 0s 746us/sample - loss: 0.2571\n",
      "Epoch 63/100\n",
      "4/4 [==============================] - 0s 498us/sample - loss: 0.2786\n",
      "Epoch 64/100\n",
      "4/4 [==============================] - 0s 499us/sample - loss: 0.2542\n",
      "Epoch 65/100\n",
      "4/4 [==============================] - 0s 747us/sample - loss: 0.2705\n",
      "Epoch 66/100\n",
      "4/4 [==============================] - 0s 249us/sample - loss: 0.2570\n",
      "Epoch 67/100\n",
      "4/4 [==============================] - 0s 749us/sample - loss: 0.2819\n",
      "Epoch 68/100\n",
      "4/4 [==============================] - 0s 747us/sample - loss: 0.2510\n",
      "Epoch 69/100\n",
      "4/4 [==============================] - 0s 500us/sample - loss: 0.2610\n",
      "Epoch 70/100\n",
      "4/4 [==============================] - 0s 499us/sample - loss: 0.2582\n",
      "Epoch 71/100\n",
      "4/4 [==============================] - 0s 498us/sample - loss: 0.2901\n",
      "Epoch 72/100\n",
      "4/4 [==============================] - 0s 753us/sample - loss: 0.2471\n",
      "Epoch 73/100\n",
      "4/4 [==============================] - 0s 250us/sample - loss: 0.2488\n",
      "Epoch 74/100\n",
      "4/4 [==============================] - 0s 499us/sample - loss: 0.2519\n",
      "Epoch 75/100\n",
      "4/4 [==============================] - 0s 1ms/sample - loss: 0.2724\n",
      "Epoch 76/100\n",
      "4/4 [==============================] - 0s 248us/sample - loss: 0.2555\n",
      "Epoch 77/100\n",
      "4/4 [==============================] - 0s 498us/sample - loss: 0.2836\n",
      "Epoch 78/100\n",
      "4/4 [==============================] - 0s 499us/sample - loss: 0.2486\n",
      "Epoch 79/100\n",
      "4/4 [==============================] - 0s 499us/sample - loss: 0.2561\n",
      "Epoch 80/100\n",
      "4/4 [==============================] - 0s 498us/sample - loss: 0.2563\n",
      "Epoch 81/100\n",
      "4/4 [==============================] - 0s 249us/sample - loss: 0.2880\n",
      "Epoch 82/100\n",
      "4/4 [==============================] - 0s 499us/sample - loss: 0.2457\n",
      "Epoch 83/100\n",
      "4/4 [==============================] - 0s 499us/sample - loss: 0.2475\n",
      "Epoch 84/100\n",
      "4/4 [==============================] - 0s 499us/sample - loss: 0.2498\n",
      "Epoch 85/100\n",
      "4/4 [==============================] - 0s 504us/sample - loss: 0.2680\n",
      "Epoch 86/100\n",
      "4/4 [==============================] - 0s 1ms/sample - loss: 0.2554\n",
      "Epoch 87/100\n",
      "4/4 [==============================] - 0s 250us/sample - loss: 0.2851\n",
      "Epoch 88/100\n",
      "4/4 [==============================] - 0s 748us/sample - loss: 0.2455\n",
      "Epoch 89/100\n",
      "4/4 [==============================] - 0s 503us/sample - loss: 0.2487\n",
      "Epoch 90/100\n",
      "4/4 [==============================] - 0s 499us/sample - loss: 0.2512\n",
      "Epoch 91/100\n",
      "4/4 [==============================] - 0s 748us/sample - loss: 0.2718\n",
      "Epoch 92/100\n",
      "4/4 [==============================] - 0s 250us/sample - loss: 0.2511\n",
      "Epoch 93/100\n",
      "4/4 [==============================] - 0s 499us/sample - loss: 0.2698\n",
      "Epoch 94/100\n",
      "4/4 [==============================] - 0s 499us/sample - loss: 0.2508\n",
      "Epoch 95/100\n",
      "4/4 [==============================] - 0s 253us/sample - loss: 0.2677\n",
      "Epoch 96/100\n",
      "4/4 [==============================] - 0s 1ms/sample - loss: 0.2509\n",
      "Epoch 97/100\n",
      "4/4 [==============================] - 0s 499us/sample - loss: 0.2680\n",
      "Epoch 98/100\n",
      "4/4 [==============================] - 0s 499us/sample - loss: 0.2502\n",
      "Epoch 99/100\n",
      "4/4 [==============================] - 0s 748us/sample - loss: 0.2655\n"
     ]
    },
    {
     "name": "stdout",
     "output_type": "stream",
     "text": [
      "Epoch 100/100\n",
      "\r",
      "4/4 [==============================] - 0s 502us/sample - loss: 0.2508\n"
     ]
    },
    {
     "data": {
      "text/plain": [
       "<tensorflow.python.keras.callbacks.History at 0x1fd462ff390>"
      ]
     },
     "execution_count": 16,
     "metadata": {},
     "output_type": "execute_result"
    }
   ],
   "source": [
    "#CODE HERE\n",
    "autoencoder.fit(scaled_df, scaled_df, epochs = 100)"
   ]
  },
  {
   "cell_type": "code",
   "execution_count": null,
   "metadata": {},
   "outputs": [],
   "source": []
  },
  {
   "cell_type": "markdown",
   "metadata": {},
   "source": [
    "**TASK: Run the scaled data through only the encoder and predict the reduced dimensionalty output. Note: You will most likely get different results than us due to random initialiations.**"
   ]
  },
  {
   "cell_type": "code",
   "execution_count": 17,
   "metadata": {},
   "outputs": [],
   "source": [
    "#CODE HERE\n",
    "encoder_pred = encoder.predict(scaled_df)"
   ]
  },
  {
   "cell_type": "code",
   "execution_count": 18,
   "metadata": {},
   "outputs": [
    {
     "data": {
      "text/plain": [
       "array([[0.9772524 , 0.        ],\n",
       "       [2.394562  , 0.        ],\n",
       "       [0.62491006, 0.        ],\n",
       "       [0.        , 0.        ]], dtype=float32)"
      ]
     },
     "execution_count": 18,
     "metadata": {},
     "output_type": "execute_result"
    }
   ],
   "source": [
    "encoder_pred"
   ]
  },
  {
   "cell_type": "code",
   "execution_count": null,
   "metadata": {},
   "outputs": [],
   "source": []
  },
  {
   "cell_type": "markdown",
   "metadata": {},
   "source": [
    "**TASK: Join the encoded 2 dimensional data with the original countries index. Triple check the index order to make sure its joined correctly. There are many ways to do this with pandas.**"
   ]
  },
  {
   "cell_type": "code",
   "execution_count": 19,
   "metadata": {},
   "outputs": [
    {
     "data": {
      "text/plain": [
       "Index(['England', 'Wales', 'Scotland', 'N.Ireland'], dtype='object')"
      ]
     },
     "execution_count": 19,
     "metadata": {},
     "output_type": "execute_result"
    }
   ],
   "source": [
    "#Code here\n",
    "df.transpose().index"
   ]
  },
  {
   "cell_type": "code",
   "execution_count": 20,
   "metadata": {},
   "outputs": [],
   "source": [
    "result = pd.DataFrame(data = encoder_pred, index = df.transpose().index, columns = ['C1','C2'])"
   ]
  },
  {
   "cell_type": "code",
   "execution_count": 21,
   "metadata": {},
   "outputs": [],
   "source": [
    "result = result.reset_index()"
   ]
  },
  {
   "cell_type": "code",
   "execution_count": 22,
   "metadata": {},
   "outputs": [
    {
     "data": {
      "text/html": [
       "<div>\n",
       "<style scoped>\n",
       "    .dataframe tbody tr th:only-of-type {\n",
       "        vertical-align: middle;\n",
       "    }\n",
       "\n",
       "    .dataframe tbody tr th {\n",
       "        vertical-align: top;\n",
       "    }\n",
       "\n",
       "    .dataframe thead th {\n",
       "        text-align: right;\n",
       "    }\n",
       "</style>\n",
       "<table border=\"1\" class=\"dataframe\">\n",
       "  <thead>\n",
       "    <tr style=\"text-align: right;\">\n",
       "      <th></th>\n",
       "      <th>index</th>\n",
       "      <th>C1</th>\n",
       "      <th>C2</th>\n",
       "    </tr>\n",
       "  </thead>\n",
       "  <tbody>\n",
       "    <tr>\n",
       "      <th>0</th>\n",
       "      <td>England</td>\n",
       "      <td>0.977252</td>\n",
       "      <td>0.0</td>\n",
       "    </tr>\n",
       "    <tr>\n",
       "      <th>1</th>\n",
       "      <td>Wales</td>\n",
       "      <td>2.394562</td>\n",
       "      <td>0.0</td>\n",
       "    </tr>\n",
       "    <tr>\n",
       "      <th>2</th>\n",
       "      <td>Scotland</td>\n",
       "      <td>0.624910</td>\n",
       "      <td>0.0</td>\n",
       "    </tr>\n",
       "    <tr>\n",
       "      <th>3</th>\n",
       "      <td>N.Ireland</td>\n",
       "      <td>0.000000</td>\n",
       "      <td>0.0</td>\n",
       "    </tr>\n",
       "  </tbody>\n",
       "</table>\n",
       "</div>"
      ],
      "text/plain": [
       "       index        C1   C2\n",
       "0    England  0.977252  0.0\n",
       "1      Wales  2.394562  0.0\n",
       "2   Scotland  0.624910  0.0\n",
       "3  N.Ireland  0.000000  0.0"
      ]
     },
     "execution_count": 22,
     "metadata": {},
     "output_type": "execute_result"
    }
   ],
   "source": [
    "result"
   ]
  },
  {
   "cell_type": "code",
   "execution_count": null,
   "metadata": {},
   "outputs": [],
   "source": []
  },
  {
   "cell_type": "markdown",
   "metadata": {},
   "source": [
    "**TASK: Now plot out these results in a scatterplot, labeled by their respective country. You should see N. Ireland further away from the other points (but not necessarily to the left or the right, could be centered further away from the others).**"
   ]
  },
  {
   "cell_type": "code",
   "execution_count": 23,
   "metadata": {},
   "outputs": [
    {
     "data": {
      "text/plain": [
       "<matplotlib.axes._subplots.AxesSubplot at 0x1fd47848668>"
      ]
     },
     "execution_count": 23,
     "metadata": {},
     "output_type": "execute_result"
    },
    {
     "data": {
      "image/png": "[encoded data removed]",
      "text/plain": [
       "<Figure size 432x288 with 1 Axes>"
      ]
     },
     "metadata": {
      "needs_background": "light"
     },
     "output_type": "display_data"
    }
   ],
   "source": [
    "#CODE HERE\n",
    "sns.scatterplot(x = 'C1', y = 'C2', data = result, hue = 'index')"
   ]
  },
  {
   "cell_type": "code",
   "execution_count": null,
   "metadata": {},
   "outputs": [],
   "source": []
  },
  {
   "cell_type": "markdown",
   "metadata": {},
   "source": [
    " Once we go back and look at the data in the table, this makes sense: the Northern Irish eat way more grams of fresh potatoes and way fewer of fresh fruits, cheese, fish and alcoholic drinks. It's a good sign that structure we've visualized reflects a big fact of real-world geography: Northern Ireland is the only of the four countries not on the island of Great Britain. (If you're confused about the differences among England, the UK and Great Britain, see: this [video](https://www.youtube.com/watch?v=rNu8XDBSn10).)"
   ]
  }
 ],
 "metadata": {
  "kernelspec": {
   "display_name": "Python 3",
   "language": "python",
   "name": "python3"
  },
  "language_info": {
   "codemirror_mode": {
    "name": "ipython",
    "version": 3
   },
   "file_extension": ".py",
   "mimetype": "text/x-python",
   "name": "python",
   "nbconvert_exporter": "python",
   "pygments_lexer": "ipython3",
   "version": "3.7.3"
  }
 },
 "nbformat": 4,
 "nbformat_minor": 2
}
